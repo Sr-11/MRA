{
 "cells": [
  {
   "cell_type": "code",
   "execution_count": 1,
   "id": "8f8d3a0b-666d-462f-8ef4-569797efd8d6",
   "metadata": {},
   "outputs": [],
   "source": [
    "from IPython.display import clear_output\n",
    "import numpy as np\n",
    "import itertools\n",
    "import math\n",
    "import statistics\n",
    "import matplotlib.pyplot as plt\n",
    "\n",
    "from distance import rho\n",
    "from moment_tensor import moment\n",
    "from sym import sym\n",
    "from T3estimator import T3estimator\n",
    "from Jennrich import Jennrich\n",
    "from generate import generate\n",
    "from fourier import fourier\n",
    "from paper import run\n",
    "from plot_save import plot_save"
   ]
  },
  {
   "cell_type": "code",
   "execution_count": 2,
   "id": "88f4066b-f7e3-4621-81bb-323d121a3c7c",
   "metadata": {},
   "outputs": [],
   "source": [
    "# Generate theta\n",
    "d=10\n",
    "theta=np.empty(d)\n",
    "cos=math.cos\n",
    "sin=math.sin\n",
    "pi=math.pi\n",
    "exp=math.exp\n",
    "for k in range(d):\n",
    "    x=k/d\n",
    "    theta[k]=k\n",
    "theta=theta/np.linalg.norm(theta,2)\n",
    "# Run\n",
    "refs=[]\n",
    "epsilons=[]\n",
    "for n in range(100,1000,100):\n",
    "    for sigma in np.arange(0.01,0.1,0.01):\n",
    "        theta_tilde,epsilon=run(n,sigma,theta)\n",
    "        ref=sigma**3/math.sqrt(n)\n",
    "        refs.append(ref)\n",
    "        epsilons.append(epsilon)"
   ]
  },
  {
   "cell_type": "code",
   "execution_count": 10,
   "id": "959981fa-51db-4d66-9bca-b4904ff99ffc",
   "metadata": {},
   "outputs": [
    {
     "data": {
      "image/png": "[encoded data removed]",
      "text/plain": [
       "<Figure size 432x288 with 1 Axes>"
      ]
     },
     "metadata": {
      "needs_background": "light"
     },
     "output_type": "display_data"
    },
    {
     "data": {
      "text/plain": [
       "<Figure size 432x288 with 0 Axes>"
      ]
     },
     "metadata": {},
     "output_type": "display_data"
    }
   ],
   "source": [
    "fig=plt.scatter(refs,epsilons)\n",
    "plt.xlabel(r'$\\frac{\\sigma^3}{\\sqrt{n}}$',fontsize=20)\n",
    "plt.ylabel(r'$\\epsilon$',fontsize=20)\n",
    "plt.savefig('./plots/')\n",
    "plt.show()"
   ]
  },
  {
   "cell_type": "code",
   "execution_count": null,
   "id": "8d45b151-7828-4a06-b1a3-bb98cc029c87",
   "metadata": {},
   "outputs": [],
   "source": []
  },
  {
   "cell_type": "code",
   "execution_count": null,
   "id": "099a6b5d-85bc-45f6-9b51-7b5c17946d2b",
   "metadata": {},
   "outputs": [],
   "source": []
  }
 ],
 "metadata": {
  "kernelspec": {
   "display_name": "Python 3 (ipykernel)",
   "language": "python",
   "name": "python3"
  },
  "language_info": {
   "codemirror_mode": {
    "name": "ipython",
    "version": 3
   },
   "file_extension": ".py",
   "mimetype": "text/x-python",
   "name": "python",
   "nbconvert_exporter": "python",
   "pygments_lexer": "ipython3",
   "version": "3.9.12"
  }
 },
 "nbformat": 4,
 "nbformat_minor": 5
}
